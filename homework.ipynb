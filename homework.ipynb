{
 "cells": [
  {
   "cell_type": "markdown",
   "id": "7b2b49b6",
   "metadata": {},
   "source": [
    "## 1.program to accept percentage from the user and display the grade acc to following\n",
    "\n",
    "marks\t\t\t\tgrade\n",
    ">90\t\t\t\t      a\n",
    ">80 and <=90\t\t  b\n",
    ">=60 and <=80\t\t  c\n",
    "below 60\t\t\t  d\n"
   ]
  },
  {
   "cell_type": "code",
   "execution_count": 5,
   "id": "278ac3d8",
   "metadata": {},
   "outputs": [
    {
     "name": "stdout",
     "output_type": "stream",
     "text": [
      "Your Percentage=90\n",
      "Your Grade=B\n"
     ]
    }
   ],
   "source": [
    "a=int(input('Your Percentage='))\n",
    "if a>90 and a<=100:\n",
    "    print('Your grade=A')\n",
    "elif a>80 and a<=90:\n",
    "    print('Your Grade=B')\n",
    "elif a>=60 and a<=80:\n",
    "    print('Your Grade=C')\n",
    "else:\n",
    "    print('Your Grade=D')"
   ]
  },
  {
   "cell_type": "markdown",
   "id": "a3a3ed8a",
   "metadata": {},
   "source": [
    "## 2."
   ]
  },
  {
   "cell_type": "code",
   "execution_count": 10,
   "id": "3d987ba3",
   "metadata": {},
   "outputs": [
    {
     "name": "stdout",
     "output_type": "stream",
     "text": [
      "Enter Year=1900\n",
      "1900 is not a leap year\n"
     ]
    }
   ],
   "source": [
    "a=int(input('Enter Year='))\n",
    "if a%100==0:      #1900,2000 example\n",
    "    if a%400==0:\n",
    "        print(a,'is a leap year')\n",
    "    else:\n",
    "        print(a,'is not a leap year')\n",
    "else:\n",
    "    if a%4==0:\n",
    "        print(a,'is a leap year')\n",
    "    else:\n",
    "        print(a,'is not a leap year')"
   ]
  },
  {
   "cell_type": "markdown",
   "id": "2beeaf93",
   "metadata": {},
   "source": [
    "# 3."
   ]
  },
  {
   "cell_type": "code",
   "execution_count": 8,
   "id": "d3cc127b",
   "metadata": {},
   "outputs": [
    {
     "name": "stdout",
     "output_type": "stream",
     "text": [
      "Enter the number:9\n",
      "ENTERED NUMBER IS WRONG PLEASE ENTER AGAIN\n"
     ]
    }
   ],
   "source": [
    "a=int(input('Enter the number:')) #number is from 1 to 7\n",
    "if a==1:\n",
    "    print('Sunday')\n",
    "elif a==2:\n",
    "    print('Monday')\n",
    "elif a==3:\n",
    "    print('Tuesday')\n",
    "elif a==4:\n",
    "    print('Wednesday')\n",
    "elif a==5:\n",
    "    print('Thursday')\n",
    "elif a==6:\n",
    "    print('Friday')\n",
    "elif a==7:\n",
    "    print('Saturday')\n",
    "else:\n",
    "    print('ENTERED NUMBER IS WRONG PLEASE ENTER AGAIN')\n"
   ]
  },
  {
   "cell_type": "markdown",
   "id": "5f5bed1f",
   "metadata": {},
   "source": [
    "# 4."
   ]
  },
  {
   "cell_type": "code",
   "execution_count": 4,
   "id": "16ee0f9c",
   "metadata": {},
   "outputs": [
    {
     "name": "stdout",
     "output_type": "stream",
     "text": [
      "Enter the number:2\n",
      "February\n"
     ]
    }
   ],
   "source": [
    "a=int(input('Enter the number:')) #number is from 1 to 12\n",
    "if a==1:\n",
    "    print('January')\n",
    "elif a==2:\n",
    "    print('February')\n",
    "elif a==3:\n",
    "    print('March')\n",
    "elif a==4:\n",
    "    print('April')\n",
    "elif a==5:\n",
    "    print('May')\n",
    "elif a==6:\n",
    "    print('June')\n",
    "elif a==7:\n",
    "    print('July')\n",
    "elif a==8:\n",
    "    print('August')\n",
    "elif a==9:\n",
    "    print('September')\n",
    "elif a==10:\n",
    "    print('October')\n",
    "elif a==11:\n",
    "    print('November')\n",
    "elif a==12:\n",
    "    print('December')\n",
    "else:\n",
    "    print('ENTERED NUMBER IS WRONG PLEASE ENTER AGAIN')"
   ]
  },
  {
   "cell_type": "markdown",
   "id": "d8de9d1b",
   "metadata": {},
   "source": [
    "# 5."
   ]
  },
  {
   "cell_type": "code",
   "execution_count": 12,
   "id": "70eaeecc",
   "metadata": {},
   "outputs": [
    {
     "name": "stdout",
     "output_type": "stream",
     "text": [
      "d= Delhi, a=Agra, j=Jaipur\n",
      "Please Enter The City Alphabet From Above:d\n",
      "RED FORT\n"
     ]
    }
   ],
   "source": [
    "print('d= Delhi, a=Agra, j=Jaipur')\n",
    "a=input('Please Enter The City Alphabet From Above:')\n",
    "if a=='d' or a=='D':\n",
    "    print('RED FORT')\n",
    "elif a=='a' or a=='A':\n",
    "    print('TAJ MAHAL')\n",
    "elif a=='j' or a=='J':\n",
    "    print('JAL MAHAL')\n",
    "else:\n",
    "    print('ENTERED ALPHABET IS WRONG PLEASE ENTER AGAIN')"
   ]
  },
  {
   "cell_type": "markdown",
   "id": "aa89f46c",
   "metadata": {},
   "source": [
    "# 6."
   ]
  },
  {
   "cell_type": "code",
   "execution_count": 15,
   "id": "a5f63c89",
   "metadata": {},
   "outputs": [
    {
     "name": "stdout",
     "output_type": "stream",
     "text": [
      "890\n",
      "it is a three digit number\n"
     ]
    }
   ],
   "source": [
    "a=int(input())\n",
    "if len(str(a)) ==3:\n",
    "    print('it is a three digit number')\n",
    "else:\n",
    "    print('it is not a three digit number')"
   ]
  },
  {
   "cell_type": "markdown",
   "id": "3134e45c",
   "metadata": {},
   "source": [
    "# 7."
   ]
  },
  {
   "cell_type": "code",
   "execution_count": 25,
   "id": "e6e1113a",
   "metadata": {},
   "outputs": [
    {
     "name": "stdout",
     "output_type": "stream",
     "text": [
      "Enter First number:9\n",
      "Enter Second number:10\n",
      "10 is the largest number\n"
     ]
    }
   ],
   "source": [
    "a=int(input('Enter First number:'))\n",
    "b=int(input('Enter Second number:'))\n",
    "if a>b:\n",
    "    print(a,'is the lagest number')\n",
    "else:\n",
    "    print(b,'is the largest number')"
   ]
  },
  {
   "cell_type": "markdown",
   "id": "be8eb204",
   "metadata": {},
   "source": [
    "# 8."
   ]
  },
  {
   "cell_type": "code",
   "execution_count": 2,
   "id": "f7282d65",
   "metadata": {},
   "outputs": [
    {
     "name": "stdout",
     "output_type": "stream",
     "text": [
      "Enter the number:3\n",
      "3 number is divisible by3\n"
     ]
    }
   ],
   "source": [
    "a=int(input('Enter the number:'))\n",
    "if a%2==0:\n",
    "    if a%3==0:\n",
    "        print(a,'number is divisible by 2 and 3')\n",
    "    else:\n",
    "        print(a,'number is divisible by 2 but not 3')\n",
    "else:\n",
    "    if a%3==0:\n",
    "        print(a,'number is divisible by3')\n",
    "    else:\n",
    "        print(a,'number is not divisible by 2 and 3')\n"
   ]
  },
  {
   "cell_type": "markdown",
   "id": "e0d7cdb0",
   "metadata": {},
   "source": [
    "# 9."
   ]
  },
  {
   "cell_type": "code",
   "execution_count": 3,
   "id": "5833082c",
   "metadata": {},
   "outputs": [
    {
     "name": "stdout",
     "output_type": "stream",
     "text": [
      "age of first person:1\n",
      "age of second person:1\n",
      "age of third person:1\n",
      "first person is the youngest\n"
     ]
    }
   ],
   "source": [
    "a=int(input('age of first person:'))\n",
    "b=int(input('age of second person:'))\n",
    "c=int(input('age of third person:'))\n",
    "if a<=b and a<=c:\n",
    "    print('first person is the youngest')\n",
    "elif b<a and b<=c:\n",
    "    print('second person is the youngest')\n",
    "else:\n",
    "    print('third person is the youngest')"
   ]
  },
  {
   "cell_type": "markdown",
   "id": "4b0df347",
   "metadata": {},
   "source": [
    "# 10."
   ]
  },
  {
   "cell_type": "code",
   "execution_count": 39,
   "id": "39af5230",
   "metadata": {},
   "outputs": [
    {
     "name": "stdout",
     "output_type": "stream",
     "text": [
      "age of first person:18\n",
      "age of second person:17\n",
      "age of third person:19\n",
      "third person is the oldest\n"
     ]
    }
   ],
   "source": [
    "a=int(input('age of first person:'))\n",
    "b=int(input('age of second person:'))\n",
    "c=int(input('age of third person:'))\n",
    "if a>=b and a>=c :\n",
    "    print('first person is the oldest')\n",
    "elif b>a and b>=c:\n",
    "    print('second person is the oldest')\n",
    "else:\n",
    "    print('third person is the oldest')"
   ]
  },
  {
   "cell_type": "markdown",
   "id": "b9428f23",
   "metadata": {},
   "source": [
    "# 11."
   ]
  },
  {
   "cell_type": "code",
   "execution_count": null,
   "id": "97a11eb3",
   "metadata": {},
   "outputs": [],
   "source": []
  },
  {
   "cell_type": "code",
   "execution_count": null,
   "id": "6ca37fe7",
   "metadata": {},
   "outputs": [],
   "source": []
  }
 ],
 "metadata": {
  "kernelspec": {
   "display_name": "Python 3 (ipykernel)",
   "language": "python",
   "name": "python3"
  },
  "language_info": {
   "codemirror_mode": {
    "name": "ipython",
    "version": 3
   },
   "file_extension": ".py",
   "mimetype": "text/x-python",
   "name": "python",
   "nbconvert_exporter": "python",
   "pygments_lexer": "ipython3",
   "version": "3.9.12"
  }
 },
 "nbformat": 4,
 "nbformat_minor": 5
}
